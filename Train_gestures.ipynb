{
  "nbformat": 4,
  "nbformat_minor": 0,
  "metadata": {
    "colab": {
      "provenance": [],
      "mount_file_id": "1ukB3kqm7FbTB22_Kw-3tKX8qMp6hups2",
      "authorship_tag": "ABX9TyPz7SA0zMEYe74W7Geu1XbL",
      "include_colab_link": true
    },
    "kernelspec": {
      "name": "python3",
      "display_name": "Python 3"
    },
    "language_info": {
      "name": "python"
    }
  },
  "cells": [
    {
      "cell_type": "markdown",
      "metadata": {
        "id": "view-in-github",
        "colab_type": "text"
      },
      "source": [
        "<a href=\"https://colab.research.google.com/github/ifeeney/On-Device-DL/blob/main/Train_gestures.ipynb\" target=\"_parent\"><img src=\"https://colab.research.google.com/assets/colab-badge.svg\" alt=\"Open In Colab\"/></a>"
      ]
    },
    {
      "cell_type": "markdown",
      "source": [
        "Label Keys\n",
        "\n",
        "\n",
        "0. Doing other things\n",
        "1. Drumming Fingers\n",
        "2. No Gesture\n",
        "3. Pulling Hand In\n",
        "4. Pulling Two Fingers In\n",
        "5. Pushing Hand Away\n",
        "6. Pushing Two Fingers Away\n",
        "7. Rolling Hand Backward\n",
        "8. Rolling Hand Forward\n",
        "9. Shaking Hand\n",
        "10. Sliding Two Fingers Down\n",
        "11. Sliding Two Fingers Left\n",
        "12. Sliding Two Fingers Up\n",
        "13. Sliding Two Fingers Up\n",
        "14. Stop Sign\n",
        "15. Swiping Down\n",
        "16. Swiping Left\n",
        "17. Swiping Right\n",
        "18. Swiping Up\n",
        "19. Thumb Down\n",
        "20. Thumb Up\n",
        "21. Turning Hand Clockwaise\n",
        "22. Turning Hand Counterclockwise\n",
        "23. Zoomig In With Full Hand\n",
        "24. Zooming In With Two Fingers\n",
        "25. Zooming Out With Full Hand\n",
        "26. Zooming Out With Two Fingers"
      ],
      "metadata": {
        "id": "G0RnnGvDE9sC"
      }
    },
    {
      "cell_type": "code",
      "source": [
        "import tensorflow as tf\n",
        "import keras\n",
        "from keras import layers\n",
        "\n",
        "# Recreate the exact same model, including its weights and the optimizer\n",
        "model = tf.keras.models.load_model('bellas_model.h5')\n",
        "\n",
        "# Show the model architecture\n",
        "model.summary()"
      ],
      "metadata": {
        "colab": {
          "base_uri": "https://localhost:8080/"
        },
        "id": "oznLUKzEJ3ge",
        "outputId": "a160fcdb-70a4-4a83-b111-d9b2c84b358d"
      },
      "execution_count": null,
      "outputs": [
        {
          "output_type": "stream",
          "name": "stdout",
          "text": [
            "Model: \"sequential\"\n",
            "_________________________________________________________________\n",
            " Layer (type)                Output Shape              Param #   \n",
            "=================================================================\n",
            " lstm (LSTM)                 (None, 37, 128)           98304     \n",
            "                                                                 \n",
            " lstm_1 (LSTM)               (None, 37, 128)           131584    \n",
            "                                                                 \n",
            " lstm_2 (LSTM)               (None, 64)                49408     \n",
            "                                                                 \n",
            " dense (Dense)               (None, 64)                4160      \n",
            "                                                                 \n",
            " dense_1 (Dense)             (None, 32)                2080      \n",
            "                                                                 \n",
            " dense_2 (Dense)             (None, 27)                891       \n",
            "                                                                 \n",
            "=================================================================\n",
            "Total params: 286427 (1.09 MB)\n",
            "Trainable params: 286427 (1.09 MB)\n",
            "Non-trainable params: 0 (0.00 Byte)\n",
            "_________________________________________________________________\n"
          ]
        }
      ]
    },
    {
      "cell_type": "code",
      "source": [
        "import numpy as np\n",
        "\n",
        "def load():\n",
        "    loadedArr = np.loadtxt(\"processed_sequence.csv\")\n",
        "    loadedArr2 = np.loadtxt(\"processed_labels.csv\")\n",
        "    # This loadedArr is a 2D array, therefore we need to convert it to the original array shape.\n",
        "    # reshaping to get original matrice with original shape.\n",
        "    loadedOriginal = loadedArr.reshape(loadedArr.shape[0], loadedArr.shape[1] // 63, 63)\n",
        "    return loadedOriginal, loadedArr2\n",
        "\n",
        "X_train, y_train = load()\n",
        "print(\"shape of sequence:\", X_train.shape)\n",
        "print(\"shape of y labels:\", y_train.shape)"
      ],
      "metadata": {
        "colab": {
          "base_uri": "https://localhost:8080/"
        },
        "id": "WI3IigLYXbUr",
        "outputId": "b262812a-845d-4ae2-e917-f843d0066abd"
      },
      "execution_count": null,
      "outputs": [
        {
          "output_type": "stream",
          "name": "stdout",
          "text": [
            "shape of sequence: (10000, 37, 63)\n",
            "shape of y labels: (10000, 27)\n"
          ]
        }
      ]
    },
    {
      "cell_type": "code",
      "source": [
        "import numpy as np\n",
        "\n",
        "def load_val():\n",
        "    loadedArr = np.loadtxt(\"processed__val_sequence.csv\")\n",
        "    loadedArr2 = np.loadtxt(\"processed__val_labels.csv\")\n",
        "    # This loadedArr is a 2D array, therefore we need to convert it to the original array shape.\n",
        "    # reshaping to get original matrice with original shape.\n",
        "    loadedOriginal = loadedArr.reshape(loadedArr.shape[0], loadedArr.shape[1] // 63, 63)\n",
        "    return loadedOriginal, loadedArr2\n",
        "\n",
        "X_test, y_test = load_val()\n",
        "print(\"shape of sequence:\", X_test.shape)\n",
        "print(\"shape of y labels:\", y_test.shape)"
      ],
      "metadata": {
        "colab": {
          "base_uri": "https://localhost:8080/"
        },
        "id": "mKyE6gH1KjDG",
        "outputId": "17e2a17b-c35f-459c-a8bf-68497f85c0f5"
      },
      "execution_count": null,
      "outputs": [
        {
          "output_type": "stream",
          "name": "stdout",
          "text": [
            "shape of sequence: (7040, 37, 63)\n",
            "shape of y labels: (7040, 27)\n"
          ]
        }
      ]
    },
    {
      "cell_type": "code",
      "source": [
        "def create_model():\n",
        "    model = keras.Sequential()\n",
        "    model.add(keras.layers.LSTM(128, return_sequences=True, activation='relu', input_shape=(37,63)))\n",
        "    model.add(keras.layers.LSTM(128, return_sequences=True, activation='relu'))\n",
        "    model.add(keras.layers.LSTM(64, return_sequences=False, activation='relu'))\n",
        "    model.add(keras.layers.Dense(64, activation='relu'))\n",
        "    model.add(keras.layers.Dense(32, activation='relu'))\n",
        "    model.add(keras.layers.Dense(27, activation='softmax'))\n",
        "    model.compile(optimizer='Adam', loss = 'categorical_crossentropy', metrics=['categorical_accuracy'])\n",
        "    return model\n",
        "\n",
        "#model = create_model()\n",
        "#model = keras.models.load_model('best_model')\n",
        "history = model.fit(X_train, y_train, validation_data=(X_test, y_test), callbacks=[stop_early, checkpoint], batch_size=32, epochs=10)\n",
        "\n",
        "# Save the entire model to a HDF5 file\n",
        "model.save('bellas_model2.h5')"
      ],
      "metadata": {
        "colab": {
          "base_uri": "https://localhost:8080/"
        },
        "id": "UmTpPiw5ZP8T",
        "outputId": "00fa270f-8ae6-40ce-88cf-7910be28a881"
      },
      "execution_count": null,
      "outputs": [
        {
          "output_type": "stream",
          "name": "stdout",
          "text": [
            "Epoch 1/10\n",
            "313/313 [==============================] - 78s 236ms/step - loss: 2.8139 - categorical_accuracy: 0.1487 - val_loss: 2.3197 - val_categorical_accuracy: 0.2472\n",
            "Epoch 2/10\n",
            "313/313 [==============================] - 77s 245ms/step - loss: 2.0712 - categorical_accuracy: 0.3217 - val_loss: 1.9338 - val_categorical_accuracy: 0.3886\n",
            "Epoch 3/10\n",
            "313/313 [==============================] - 66s 212ms/step - loss: 1.7561 - categorical_accuracy: 0.4323 - val_loss: 10.8074 - val_categorical_accuracy: 0.4226\n",
            "Epoch 4/10\n",
            "313/313 [==============================] - 73s 233ms/step - loss: 1.6919 - categorical_accuracy: 0.4768 - val_loss: 2.1065 - val_categorical_accuracy: 0.4869\n",
            "Epoch 5/10\n",
            "313/313 [==============================] - 72s 230ms/step - loss: 1.5436 - categorical_accuracy: 0.5240 - val_loss: 1.4730 - val_categorical_accuracy: 0.5366\n",
            "Epoch 6/10\n",
            "313/313 [==============================] - 62s 199ms/step - loss: 1.3490 - categorical_accuracy: 0.5671 - val_loss: 1.4383 - val_categorical_accuracy: 0.5578\n",
            "Epoch 7/10\n",
            "313/313 [==============================] - 66s 209ms/step - loss: 1.2678 - categorical_accuracy: 0.5963 - val_loss: 1.3684 - val_categorical_accuracy: 0.5707\n",
            "Epoch 8/10\n",
            "313/313 [==============================] - 73s 233ms/step - loss: 1.2007 - categorical_accuracy: 0.6179 - val_loss: 1.3312 - val_categorical_accuracy: 0.5970\n",
            "Epoch 9/10\n",
            "313/313 [==============================] - 76s 245ms/step - loss: 1.2355 - categorical_accuracy: 0.6111 - val_loss: 1.3446 - val_categorical_accuracy: 0.5862\n",
            "Epoch 10/10\n",
            "313/313 [==============================] - 72s 229ms/step - loss: 1.1525 - categorical_accuracy: 0.6383 - val_loss: 1.2972 - val_categorical_accuracy: 0.6070\n"
          ]
        },
        {
          "output_type": "stream",
          "name": "stderr",
          "text": [
            "/usr/local/lib/python3.10/dist-packages/keras/src/engine/training.py:3079: UserWarning: You are saving your model as an HDF5 file via `model.save()`. This file format is considered legacy. We recommend using instead the native Keras format, e.g. `model.save('my_model.keras')`.\n",
            "  saving_api.save_model(\n"
          ]
        }
      ]
    },
    {
      "cell_type": "code",
      "source": [
        "from matplotlib import pyplot as plt\n",
        "\n",
        "plt.plot(history.history['categorical_accuracy'])\n",
        "plt.plot(history.history['val_categorical_accuracy'])\n",
        "plt.title('model accuracy')\n",
        "plt.ylabel('accuracy')\n",
        "plt.xlabel('epoch')\n",
        "plt.legend(['train', 'val'], loc='upper left')\n",
        "plt.show()"
      ],
      "metadata": {
        "colab": {
          "base_uri": "https://localhost:8080/",
          "height": 472
        },
        "id": "gzntNkqqWL8f",
        "outputId": "0d217fa1-ddbc-4246-8816-6db8732b9858"
      },
      "execution_count": null,
      "outputs": [
        {
          "output_type": "display_data",
          "data": {
            "text/plain": [
              "<Figure size 640x480 with 1 Axes>"
            ],
            "image/png": "[encoded data removed]"
          },
          "metadata": {}
        }
      ]
    },
    {
      "cell_type": "code",
      "source": [
        "plt.plot(history.history['loss'])\n",
        "plt.plot(history.history['val_loss'])\n",
        "plt.title('model loss')\n",
        "plt.ylabel('loss')\n",
        "plt.xlabel('epoch')\n",
        "plt.legend(['train', 'val'], loc='upper left')\n",
        "plt.show()"
      ],
      "metadata": {
        "colab": {
          "base_uri": "https://localhost:8080/",
          "height": 472
        },
        "id": "7OxYVL0OXWR6",
        "outputId": "5d89cfa9-f86d-4c03-96fa-1a384d7a5f8d"
      },
      "execution_count": null,
      "outputs": [
        {
          "output_type": "display_data",
          "data": {
            "text/plain": [
              "<Figure size 640x480 with 1 Axes>"
            ],
            "image/png": "[encoded data removed]"
          },
          "metadata": {}
        }
      ]
    },
    {
      "cell_type": "code",
      "source": [
        "# Evaluate the model on the test data using `evaluate`\n",
        "print(\"Evaluate on test data\")\n",
        "results = model.evaluate(X_test, y_test, batch_size=32)\n",
        "print(\"test loss, test acc:\", results)"
      ],
      "metadata": {
        "colab": {
          "base_uri": "https://localhost:8080/"
        },
        "id": "RGTGrpY_HB-U",
        "outputId": "1b3d17ed-4ce6-45af-ad79-4fa4e18e3329"
      },
      "execution_count": null,
      "outputs": [
        {
          "output_type": "stream",
          "name": "stdout",
          "text": [
            "Evaluate on test data\n",
            "220/220 [==============================] - 14s 63ms/step - loss: 1.2972 - categorical_accuracy: 0.6070\n",
            "test loss, test acc: [1.2971904277801514, 0.6069602370262146]\n"
          ]
        }
      ]
    },
    {
      "cell_type": "code",
      "source": [
        "# Generate predictions (probabilities -- the output of the last layer)\n",
        "# on new data using `predict`\n",
        "print(\"Generate predictions for 3 samples\")\n",
        "predictions = model.predict(x_test[:10])\n",
        "print(\"predictions shape:\", predictions.shape)\n",
        "print(tf.argmax(predictions, axis=-1))\n",
        "print(tf.argmax((y_test[:10]), axis=-1))"
      ],
      "metadata": {
        "colab": {
          "base_uri": "https://localhost:8080/"
        },
        "id": "4hV4aCCnNqff",
        "outputId": "43850cbf-bb6e-464a-b171-d9a914d67480"
      },
      "execution_count": null,
      "outputs": [
        {
          "output_type": "stream",
          "name": "stdout",
          "text": [
            "Generate predictions for 3 samples\n",
            "1/1 [==============================] - 1s 1s/step\n",
            "predictions shape: (10, 27)\n",
            "tf.Tensor([ 2  5 25 19 17 16  1 19 25 26], shape=(10,), dtype=int64)\n",
            "tf.Tensor([23 15  9 19 17 25  1 19 25 26], shape=(10,), dtype=int64)\n"
          ]
        }
      ]
    },
    {
      "cell_type": "markdown",
      "source": [
        "# Convert to tf lite model"
      ],
      "metadata": {
        "id": "-pvcf1VDZXPA"
      }
    },
    {
      "cell_type": "code",
      "source": [
        "run_model = tf.function(lambda x: model(x))\n",
        "\n",
        "# This is important, let's fix the input size.\n",
        "BATCH_SIZE = 1\n",
        "STEPS = 37\n",
        "INPUT_SIZE = 63\n",
        "concrete_func = run_model.get_concrete_function(\n",
        "    tf.TensorSpec([BATCH_SIZE, STEPS, INPUT_SIZE], model.inputs[0].dtype))\n",
        "\n",
        "# model directory.\n",
        "MODEL_DIR = \"keras_lstm\"\n",
        "model.save(MODEL_DIR, save_format=\"tf\", signatures=concrete_func)\n",
        "\n",
        "converter = tf.lite.TFLiteConverter.from_saved_model(MODEL_DIR)\n",
        "tflite_model = converter.convert()\n",
        "\n",
        "# Save the model.\n",
        "with open('bellas_model.tflite', 'wb') as f:\n",
        "  f.write(tflite_model)"
      ],
      "metadata": {
        "id": "gC4qqeNiZfng"
      },
      "execution_count": null,
      "outputs": []
    },
    {
      "cell_type": "code",
      "source": [
        "# Run the model with TensorFlow to get expected results.\n",
        "TEST_CASES = 10\n",
        "\n",
        "# Run the model with TensorFlow Lite\n",
        "interpreter = tf.lite.Interpreter(model_content=tflite_model)\n",
        "interpreter.allocate_tensors()\n",
        "input_details = interpreter.get_input_details()\n",
        "output_details = interpreter.get_output_details()\n",
        "\n",
        "for i in range(TEST_CASES):\n",
        "  expected = model.predict(X_test[i:i+1])\n",
        "  interpreter.set_tensor(input_details[0][\"index\"], np.float32(X_test[i:i+1, :, :]))\n",
        "  interpreter.invoke()\n",
        "  result = interpreter.get_tensor(output_details[0][\"index\"])\n",
        "\n",
        "  # Assert if the result of TFLite model is consistent with the TF model.\n",
        "  np.testing.assert_almost_equal(expected, result, decimal=5)\n",
        "  print(\"Done. The result of TensorFlow matches the result of TensorFlow Lite.\")\n",
        "\n",
        "  # Please note: TfLite fused Lstm kernel is stateful, so we need to reset\n",
        "  # the states.\n",
        "  # Clean up internal states.\n",
        "  interpreter.reset_all_variables()"
      ],
      "metadata": {
        "id": "snjJjJib_zfv",
        "colab": {
          "base_uri": "https://localhost:8080/"
        },
        "outputId": "f431d2b1-6a59-4b8c-82bc-841d7950272d"
      },
      "execution_count": null,
      "outputs": [
        {
          "output_type": "stream",
          "name": "stdout",
          "text": [
            "1/1 [==============================] - 0s 105ms/step\n",
            "Done. The result of TensorFlow matches the result of TensorFlow Lite.\n",
            "1/1 [==============================] - 0s 98ms/step\n",
            "Done. The result of TensorFlow matches the result of TensorFlow Lite.\n",
            "1/1 [==============================] - 0s 142ms/step\n",
            "Done. The result of TensorFlow matches the result of TensorFlow Lite.\n",
            "1/1 [==============================] - 0s 99ms/step\n",
            "Done. The result of TensorFlow matches the result of TensorFlow Lite.\n",
            "1/1 [==============================] - 0s 108ms/step\n",
            "Done. The result of TensorFlow matches the result of TensorFlow Lite.\n",
            "1/1 [==============================] - 0s 94ms/step\n",
            "Done. The result of TensorFlow matches the result of TensorFlow Lite.\n",
            "1/1 [==============================] - 0s 88ms/step\n",
            "Done. The result of TensorFlow matches the result of TensorFlow Lite.\n",
            "1/1 [==============================] - 0s 173ms/step\n",
            "Done. The result of TensorFlow matches the result of TensorFlow Lite.\n",
            "1/1 [==============================] - 0s 238ms/step\n",
            "Done. The result of TensorFlow matches the result of TensorFlow Lite.\n",
            "1/1 [==============================] - 0s 240ms/step\n",
            "Done. The result of TensorFlow matches the result of TensorFlow Lite.\n"
          ]
        }
      ]
    },
    {
      "cell_type": "code",
      "source": [],
      "metadata": {
        "id": "IH5emxinmvoW"
      },
      "execution_count": null,
      "outputs": []
    }
  ]
}