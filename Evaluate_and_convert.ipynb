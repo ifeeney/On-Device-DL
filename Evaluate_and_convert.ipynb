{
  "nbformat": 4,
  "nbformat_minor": 0,
  "metadata": {
    "colab": {
      "provenance": [],
      "mount_file_id": "1ukB3kqm7FbTB22_Kw-3tKX8qMp6hups2",
      "authorship_tag": "ABX9TyO4UVT0x0Rp/PvbID3a9IlU",
      "include_colab_link": true
    },
    "kernelspec": {
      "name": "python3",
      "display_name": "Python 3"
    },
    "language_info": {
      "name": "python"
    }
  },
  "cells": [
    {
      "cell_type": "markdown",
      "metadata": {
        "id": "view-in-github",
        "colab_type": "text"
      },
      "source": [
        "<a href=\"https://colab.research.google.com/github/ifeeney/On-Device-DL/blob/main/Evaluate_and_convert.ipynb\" target=\"_parent\"><img src=\"https://colab.research.google.com/assets/colab-badge.svg\" alt=\"Open In Colab\"/></a>"
      ]
    },
    {
      "cell_type": "markdown",
      "source": [
        "Label Keys\n",
        "\n",
        "\n",
        "0. Doing other things\n",
        "1. Drumming Fingers\n",
        "2. No Gesture\n",
        "3. Pulling Hand In\n",
        "4. Pulling Two Fingers In\n",
        "5. Pushing Hand Away\n",
        "6. Pushing Two Fingers Away\n",
        "7. Rolling Hand Backward\n",
        "8. Rolling Hand Forward\n",
        "9. Shaking Hand\n",
        "10. Sliding Two Fingers Down\n",
        "11. Sliding Two Fingers Left\n",
        "12. Sliding Two Fingers Up\n",
        "13. Sliding Two Fingers Up\n",
        "14. Stop Sign\n",
        "15. Swiping Down\n",
        "16. Swiping Left\n",
        "17. Swiping Right\n",
        "18. Swiping Up\n",
        "19. Thumb Down\n",
        "20. Thumb Up\n",
        "21. Turning Hand Clockwaise\n",
        "22. Turning Hand Counterclockwise\n",
        "23. Zoomig In With Full Hand\n",
        "24. Zooming In With Two Fingers\n",
        "25. Zooming Out With Full Hand\n",
        "26. Zooming Out With Two Fingers"
      ],
      "metadata": {
        "id": "G0RnnGvDE9sC"
      }
    },
    {
      "cell_type": "code",
      "source": [
        "import tensorflow as tf\n",
        "import keras\n",
        "from keras import layers\n",
        "\n",
        "# Recreate the exact same model, including its weights and the optimizer\n",
        "model = tf.keras.models.load_model('bellas_model3.h5')\n",
        "\n",
        "# Show the model architecture\n",
        "model.summary()"
      ],
      "metadata": {
        "colab": {
          "base_uri": "https://localhost:8080/"
        },
        "id": "oznLUKzEJ3ge",
        "outputId": "3408419c-353d-49e6-887a-1d7a30a3f38c"
      },
      "execution_count": 1,
      "outputs": [
        {
          "output_type": "stream",
          "name": "stdout",
          "text": [
            "Model: \"sequential\"\n",
            "_________________________________________________________________\n",
            " Layer (type)                Output Shape              Param #   \n",
            "=================================================================\n",
            " lstm (LSTM)                 (None, 37, 128)           98304     \n",
            "                                                                 \n",
            " lstm_1 (LSTM)               (None, 37, 128)           131584    \n",
            "                                                                 \n",
            " lstm_2 (LSTM)               (None, 64)                49408     \n",
            "                                                                 \n",
            " dense (Dense)               (None, 64)                4160      \n",
            "                                                                 \n",
            " dense_1 (Dense)             (None, 32)                2080      \n",
            "                                                                 \n",
            " dense_2 (Dense)             (None, 27)                891       \n",
            "                                                                 \n",
            "=================================================================\n",
            "Total params: 286427 (1.09 MB)\n",
            "Trainable params: 286427 (1.09 MB)\n",
            "Non-trainable params: 0 (0.00 Byte)\n",
            "_________________________________________________________________\n"
          ]
        }
      ]
    },
    {
      "cell_type": "code",
      "source": [
        "import pickle\n",
        "\n",
        "with open('trainHistoryDict', \"rb\") as file_pi:\n",
        "    history = pickle.load(file_pi)"
      ],
      "metadata": {
        "id": "Xzse8oKZfcUg"
      },
      "execution_count": 2,
      "outputs": []
    },
    {
      "cell_type": "code",
      "source": [
        "from matplotlib import pyplot as plt\n",
        "\n",
        "plt.plot(history['categorical_accuracy'])\n",
        "plt.plot(history['val_categorical_accuracy'])\n",
        "plt.title('model accuracy')\n",
        "plt.ylabel('accuracy')\n",
        "plt.xlabel('epoch')\n",
        "plt.legend(['train', 'val'], loc='upper left')\n",
        "plt.show()"
      ],
      "metadata": {
        "colab": {
          "base_uri": "https://localhost:8080/",
          "height": 472
        },
        "id": "gzntNkqqWL8f",
        "outputId": "cca723c5-57b7-45dd-f374-0350e627e2e4"
      },
      "execution_count": 4,
      "outputs": [
        {
          "output_type": "display_data",
          "data": {
            "text/plain": [
              "<Figure size 640x480 with 1 Axes>"
            ],
            "image/png": "[encoded data removed]"
          },
          "metadata": {}
        }
      ]
    },
    {
      "cell_type": "code",
      "source": [
        "plt.plot(history['loss'])\n",
        "plt.plot(history['val_loss'])\n",
        "plt.title('model loss')\n",
        "plt.ylabel('loss')\n",
        "plt.xlabel('epoch')\n",
        "plt.legend(['train', 'val'], loc='upper left')\n",
        "plt.show()"
      ],
      "metadata": {
        "colab": {
          "base_uri": "https://localhost:8080/",
          "height": 472
        },
        "id": "7OxYVL0OXWR6",
        "outputId": "f84f522c-9369-4a23-be7f-6b72ca4f4ae7"
      },
      "execution_count": 5,
      "outputs": [
        {
          "output_type": "display_data",
          "data": {
            "text/plain": [
              "<Figure size 640x480 with 1 Axes>"
            ],
            "image/png": "[encoded data removed]"
          },
          "metadata": {}
        }
      ]
    },
    {
      "cell_type": "code",
      "source": [
        "import numpy as np\n",
        "\n",
        "def load_val():\n",
        "    loadedArr = np.loadtxt(\"processed__val_sequence.csv\")\n",
        "    loadedArr2 = np.loadtxt(\"processed__val_labels.csv\")\n",
        "    # This loadedArr is a 2D array, therefore we need to convert it to the original array shape.\n",
        "    # reshaping to get original matrice with original shape.\n",
        "    loadedOriginal = loadedArr.reshape(loadedArr.shape[0], loadedArr.shape[1] // 63, 63)\n",
        "    return loadedOriginal, loadedArr2\n",
        "\n",
        "X_test, y_test = load_val()"
      ],
      "metadata": {
        "id": "c08uCr7ZnDRs"
      },
      "execution_count": 7,
      "outputs": []
    },
    {
      "cell_type": "code",
      "source": [
        "# Evaluate the model on the test data using `evaluate`\n",
        "print(\"Evaluate on test data\")\n",
        "results = model.evaluate(X_test, y_test, batch_size=32)\n",
        "print(\"test loss, test acc:\", results)"
      ],
      "metadata": {
        "colab": {
          "base_uri": "https://localhost:8080/"
        },
        "id": "RGTGrpY_HB-U",
        "outputId": "f3747dfd-13e8-4699-f761-07167d148340"
      },
      "execution_count": 8,
      "outputs": [
        {
          "output_type": "stream",
          "name": "stdout",
          "text": [
            "Evaluate on test data\n",
            "220/220 [==============================] - 12s 50ms/step - loss: 1.1696 - categorical_accuracy: 0.6574\n",
            "test loss, test acc: [1.169578194618225, 0.6573863625526428]\n"
          ]
        }
      ]
    },
    {
      "cell_type": "code",
      "source": [
        "# Compare against first iteration\n",
        "model = tf.keras.models.load_model('bellas_model.h5')\n",
        "# Evaluate the model on the test data using `evaluate`\n",
        "print(\"Evaluate on test data\")\n",
        "results1 = model.evaluate(X_test, y_test, batch_size=32)\n",
        "print(\"test loss, test acc:\", results1)"
      ],
      "metadata": {
        "colab": {
          "base_uri": "https://localhost:8080/"
        },
        "id": "A1-D5ussnkqZ",
        "outputId": "93c6d658-7d97-4560-d87d-bfac0f2b235b"
      },
      "execution_count": 19,
      "outputs": [
        {
          "output_type": "stream",
          "name": "stdout",
          "text": [
            "Evaluate on test data\n",
            "220/220 [==============================] - 9s 37ms/step - loss: 1.3034 - categorical_accuracy: 0.6746\n",
            "test loss, test acc: [1.303442358970642, 0.6745738387107849]\n"
          ]
        }
      ]
    },
    {
      "cell_type": "code",
      "source": [
        "# Generate predictions (probabilities -- the output of the last layer)\n",
        "# on new data using `predict`\n",
        "print(\"Generate predictions for 3 samples\")\n",
        "predictions = model.predict(X_test[:10])\n",
        "print(\"predictions shape:\", predictions.shape)\n",
        "print(tf.argmax(predictions, axis=-1))\n",
        "print(tf.argmax((y_test[:10]), axis=-1))"
      ],
      "metadata": {
        "colab": {
          "base_uri": "https://localhost:8080/"
        },
        "id": "4hV4aCCnNqff",
        "outputId": "bf4acbd8-ed6a-48a9-f3b0-288decf2d7cc"
      },
      "execution_count": 20,
      "outputs": [
        {
          "output_type": "stream",
          "name": "stdout",
          "text": [
            "Generate predictions for 3 samples\n",
            "1/1 [==============================] - 0s 425ms/step\n",
            "predictions shape: (10, 27)\n",
            "tf.Tensor([ 2  5 25 19 17 16  1 19 25 26], shape=(10,), dtype=int64)\n",
            "tf.Tensor([23 15  9 19 17 25  1 19 25 26], shape=(10,), dtype=int64)\n"
          ]
        }
      ]
    },
    {
      "cell_type": "markdown",
      "source": [
        "# Convert to tf lite model\n",
        "\n",
        "Also important is to highlight the TensorFlow Lite’s LSTM contract with respect to the Keras operation definition:\n",
        "\n",
        "The dimension 0 of the input tensor is the batch size.\n",
        "The dimension 0 of the recurrent_weight tensor is the number of outputs.\n",
        "The weight and recurrent_kernel tensors are transposed.\n",
        "The transposed weight, transposed recurrent_kernel and bias tensors are split into 4 equal sized tensors along the dimension 0. These correspond to input gate, forget gate, cell, and output gate.\n"
      ],
      "metadata": {
        "id": "-pvcf1VDZXPA"
      }
    },
    {
      "cell_type": "code",
      "source": [
        "run_model = tf.function(lambda x: model(x))\n",
        "\n",
        "# This is important, let's fix the input size.\n",
        "BATCH_SIZE = 1\n",
        "STEPS = 37\n",
        "INPUT_SIZE = 63\n",
        "concrete_func = run_model.get_concrete_function(\n",
        "    tf.TensorSpec([BATCH_SIZE, STEPS, INPUT_SIZE], model.inputs[0].dtype))\n",
        "\n",
        "# model directory.\n",
        "MODEL_DIR = \"keras_lstm\"\n",
        "model.save(MODEL_DIR, save_format=\"tf\", signatures=concrete_func)\n",
        "\n",
        "converter = tf.lite.TFLiteConverter.from_saved_model(MODEL_DIR)\n",
        "tflite_model = converter.convert()\n",
        "\n",
        "# Save the model.\n",
        "with open('bellas_model2.tflite', 'wb') as f:\n",
        "  f.write(tflite_model)"
      ],
      "metadata": {
        "id": "gC4qqeNiZfng"
      },
      "execution_count": 23,
      "outputs": []
    },
    {
      "cell_type": "code",
      "source": [
        "import numpy as np\n",
        "\n",
        "# Run the model with TensorFlow to get expected results.\n",
        "TEST_CASES = 10\n",
        "\n",
        "# Run the model with TensorFlow Lite\n",
        "interpreter = tf.lite.Interpreter(model_content=tflite_model)\n",
        "interpreter.allocate_tensors()\n",
        "input_details = interpreter.get_input_details()\n",
        "output_details = interpreter.get_output_details()\n",
        "\n",
        "for i in range(TEST_CASES):\n",
        "  expected = model.predict(X_test[i:i+1])\n",
        "  interpreter.set_tensor(input_details[0][\"index\"], np.float32(X_test[i:i+1, :, :]))\n",
        "  interpreter.invoke()\n",
        "  result = interpreter.get_tensor(output_details[0][\"index\"])\n",
        "\n",
        "  # Assert if the result of TFLite model is consistent with the TF model.\n",
        "  np.testing.assert_almost_equal(expected, result, decimal=5)\n",
        "  print(\"Done. The result of TensorFlow matches the result of TensorFlow Lite.\")\n",
        "\n",
        "  # Please note: TfLite fused Lstm kernel is stateful, so we need to reset\n",
        "  # the states.\n",
        "  # Clean up internal states.\n",
        "  interpreter.reset_all_variables()"
      ],
      "metadata": {
        "id": "snjJjJib_zfv",
        "colab": {
          "base_uri": "https://localhost:8080/"
        },
        "outputId": "b1ddb6e0-75e4-414c-83b7-4b182c7f5440"
      },
      "execution_count": 22,
      "outputs": [
        {
          "output_type": "stream",
          "name": "stdout",
          "text": [
            "1/1 [==============================] - 0s 29ms/step\n",
            "Done. The result of TensorFlow matches the result of TensorFlow Lite.\n",
            "1/1 [==============================] - 0s 30ms/step\n",
            "Done. The result of TensorFlow matches the result of TensorFlow Lite.\n",
            "1/1 [==============================] - 0s 28ms/step\n",
            "Done. The result of TensorFlow matches the result of TensorFlow Lite.\n",
            "1/1 [==============================] - 0s 34ms/step\n",
            "Done. The result of TensorFlow matches the result of TensorFlow Lite.\n",
            "1/1 [==============================] - 0s 28ms/step\n",
            "Done. The result of TensorFlow matches the result of TensorFlow Lite.\n",
            "1/1 [==============================] - 0s 39ms/step\n",
            "Done. The result of TensorFlow matches the result of TensorFlow Lite.\n",
            "1/1 [==============================] - 0s 40ms/step\n",
            "Done. The result of TensorFlow matches the result of TensorFlow Lite.\n",
            "1/1 [==============================] - 0s 61ms/step\n",
            "Done. The result of TensorFlow matches the result of TensorFlow Lite.\n",
            "1/1 [==============================] - 0s 98ms/step\n",
            "Done. The result of TensorFlow matches the result of TensorFlow Lite.\n",
            "1/1 [==============================] - 0s 67ms/step\n",
            "Done. The result of TensorFlow matches the result of TensorFlow Lite.\n"
          ]
        }
      ]
    },
    {
      "cell_type": "code",
      "source": [],
      "metadata": {
        "id": "IH5emxinmvoW"
      },
      "execution_count": null,
      "outputs": []
    }
  ]
}